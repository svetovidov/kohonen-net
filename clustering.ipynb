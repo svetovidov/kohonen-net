{
 "cells": [
  {
   "cell_type": "code",
   "execution_count": 2,
   "metadata": {
    "collapsed": false
   },
   "outputs": [
    {
     "name": "stdout",
     "output_type": "stream",
     "text": [
      "\n",
      "Clusters of data\n",
      " [ 4.  1.  1.  5.  5.  1.  2.  2.  2.  3. -1.  2.  3.  1.  4.  3.  3.  3.\n",
      "  3.  3.  1.  1.  1.  1.  3.  1.  1.  3.  3.  3.  3.  1.  2.  2.  1.  2.\n",
      "  3.  3.  3.  4.  3.  1.  2.  1.  2. -1.  1.  2.  2.  5.  2.  4.  4.  1.] \n",
      "\n",
      "Number of classes:  5\n",
      "\n",
      "Embedded data\n",
      " [[ -2.19579357e+01   1.30327734e+02  -2.62483045e+02  -4.91046745e+01\n",
      "    1.15776360e+00   1.33480315e+02  -2.38687672e+01  -6.45276235e+01\n",
      "    1.88292168e+01   6.67319932e+01  -2.40705610e+01  -3.80725156e+01\n",
      "    5.66292687e+01   6.24050308e+00   8.90754314e+00   5.77030008e+01\n",
      "    1.92151115e+01   3.31272157e+01   2.05212137e+01  -2.49757172e+01\n",
      "    3.88522364e+01   9.56025375e+01  -2.40429821e+01   1.58825718e+01\n",
      "    4.80584754e+01  -3.39757424e+01   6.27727595e+01   3.48238758e+01\n",
      "    2.83512343e+01   1.36411465e+01   1.01827833e+02  -5.52543872e+01\n",
      "   -1.44517261e+01  -2.35588399e+01   8.96417727e-01   2.38981858e+00\n",
      "   -4.28385177e+01   2.15729193e+01   3.49069266e+01  -3.98857668e+01\n",
      "    1.92395894e+01   2.45931166e-01  -3.96369303e+00  -9.99958122e+01\n",
      "   -4.59138417e+01  -9.97146676e+00  -8.13946590e+00  -5.76088700e+00\n",
      "    2.81913476e+01  -6.72667183e+01  -5.65010888e+01  -2.85904769e+01\n",
      "   -1.26495031e+01  -1.09835791e+01]\n",
      " [ -7.10054208e+00  -1.02761236e+02  -1.20563705e+02   2.77137298e+01\n",
      "   -4.68129996e+01   2.50311397e+02  -2.96010267e+01  -9.30396421e+01\n",
      "    9.63458837e+01   1.85309108e+01   3.48719762e+01  -4.92974649e+01\n",
      "   -5.94132223e+00  -3.08883480e+00  -2.38836234e+01  -1.08094386e+01\n",
      "    1.62478030e+01  -6.80289939e-01  -4.81006243e+01  -7.49622113e-01\n",
      "    6.38581097e+00  -5.38966798e+01   1.64971532e+01   3.37665676e+01\n",
      "   -5.05025693e+00  -8.59855702e+00  -2.34460950e+01  -2.50082789e+01\n",
      "    1.30930101e+01   1.43930737e+01   1.06850146e+02   2.72073718e+01\n",
      "   -6.66072136e+00   2.21131912e+01   1.21400666e+01  -3.24968414e+01\n",
      "   -1.42556175e+02  -8.82077773e+00  -2.78018907e+01  -8.60049615e-01\n",
      "   -4.82444471e+01   3.43763226e+01  -1.01649336e+01   1.01184878e+02\n",
      "    2.06717820e+01  -3.12222730e+01  -8.40669791e+00   1.39394636e+01\n",
      "   -2.64270344e+01   8.01084250e+01  -4.69719569e+01   8.06426178e+01\n",
      "   -3.57315946e+01   1.44472996e+01]\n",
      " [ -8.52513357e-01  -8.20806239e+01  -5.86819064e+01   2.35163889e+01\n",
      "    9.05882769e+01  -6.84695085e+01   2.17738962e+01   1.35508096e+02\n",
      "   -1.08155556e+02  -1.75521706e+01   5.55629137e+00  -2.10413540e+01\n",
      "   -2.03089088e+01  -5.71601826e+00  -2.21436978e+01  -5.05218706e+01\n",
      "   -2.78371280e+01  -2.14736690e+01  -1.95478052e+01   6.41680324e+01\n",
      "    3.26902457e+01  -1.43487330e+02  -3.26464057e+01   1.24908375e+01\n",
      "    5.79278875e+00  -2.35301993e+01   2.44726611e+02  -2.36654784e+01\n",
      "    1.03924410e+00   3.70654143e+01   1.01621080e+02  -2.90565674e+01\n",
      "    4.09551016e+01   3.34929905e+01  -4.58741245e+01   2.91617400e+01\n",
      "   -1.05777625e+02   1.64543563e+01   4.90753004e+00   1.57763268e+01\n",
      "    9.83420923e+00  -2.00908686e+01   2.02901786e+01   3.05007451e+01\n",
      "   -4.84125896e+00  -3.56291674e+00  -3.34281722e+01   1.88984780e+01\n",
      "    3.67168266e+01  -6.55513885e+01   4.61852059e+01   1.87408210e+01\n",
      "   -3.02157077e+01  -9.25697179e+00]]\n",
      "\n",
      "-- The algorithm took 0.40112 seconds to complete --\n"
     ]
    }
   ],
   "source": [
    "import netfunc as nf\n",
    "import numpy as np\n",
    "import time\n",
    "from sklearn.manifold import TSNE\n",
    "\n",
    "start_time = time.time()\n",
    "kohNet = {}\n",
    "kohNetLearned = {}\n",
    "\n",
    "#  load and prepare data from 480.csv\n",
    "\n",
    "data = np.loadtxt(\"C:\\\\documents\\\\480.csv\", delimiter = ';', dtype = np.float32)\n",
    "data = data.transpose()\n",
    "data = data[2:-1, :] # cut redundant data\n",
    "border = round(0.9*len(data[0,:]))\n",
    "learnVec = data[:, :border] # learning data vectors\n",
    "testVec = data[:, border:] # test data vectors\n",
    "\n",
    "# initialize kohonen network\n",
    "\n",
    "kohNet = nf.netInit (7)\n",
    "\n",
    "# teach network on learnVec\n",
    "\n",
    "kohNetLearned, clustLearnVec = nf.netLearn (kohNet, learnVec)\n",
    "\n",
    "# test network\n",
    "\n",
    "clustTestVec = nf.netClust(kohNetLearned, testVec)\n",
    "\n",
    "# reduce data dimension to 3 by using TSNE (for possible visualising)\n",
    "\n",
    "data_embedded = TSNE(n_components=3, method='barnes_hut').fit_transform(data.transpose())\n",
    "data_embedded = data_embedded.transpose()\n",
    "\n",
    "# output results\n",
    "\n",
    "clustVec = np.concatenate ((clustLearnVec, clustTestVec))\n",
    "print (\"\\nClusters of data\\n\", clustVec, \"\\n\")\n",
    "print (\"Number of classes: \", kohNetLearned['numClusters'])\n",
    "print (\"\\nEmbedded data\\n\", data_embedded)\n",
    "print ('\\n-- The algorithm took', np.float16(time.time() - start_time), 'seconds to complete --' ) # execution time"
   ]
  },
  {
   "cell_type": "code",
   "execution_count": null,
   "metadata": {
    "collapsed": true
   },
   "outputs": [],
   "source": []
  }
 ],
 "metadata": {
  "anaconda-cloud": {},
  "kernelspec": {
   "display_name": "Python [conda root]",
   "language": "python",
   "name": "conda-root-py"
  },
  "language_info": {
   "codemirror_mode": {
    "name": "ipython",
    "version": 3
   },
   "file_extension": ".py",
   "mimetype": "text/x-python",
   "name": "python",
   "nbconvert_exporter": "python",
   "pygments_lexer": "ipython3",
   "version": "3.5.2"
  }
 },
 "nbformat": 4,
 "nbformat_minor": 1
}
